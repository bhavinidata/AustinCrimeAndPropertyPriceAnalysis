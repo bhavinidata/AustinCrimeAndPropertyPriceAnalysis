{
 "cells": [
  {
   "cell_type": "markdown",
   "metadata": {},
   "source": [
    "## Below API has been used to get Austin Crime dataset.\n",
    "\n",
    "### https://data.austintexas.gov/Public-Safety/Crime-Reports/fdj4-gpfu\n",
    "### https://dev.socrata.com/foundry/data.austintexas.gov/fdj4-gpfu\n",
    "### https://data.austintexas.gov/resource/fdj4-gpfu.json\n"
   ]
  },
  {
   "cell_type": "code",
   "execution_count": 1,
   "metadata": {},
   "outputs": [
    {
     "name": "stdout",
     "output_type": "stream",
     "text": [
      "Requirement already satisfied: sodapy in /Users/bhavinivyas/anaconda3/lib/python3.7/site-packages (1.5.4)\n",
      "Requirement already satisfied: requests>=2.20.0 in /Users/bhavinivyas/anaconda3/lib/python3.7/site-packages (from sodapy) (2.21.0)\n",
      "Requirement already satisfied: future>=0.17.1 in /Users/bhavinivyas/anaconda3/lib/python3.7/site-packages (from sodapy) (0.17.1)\n",
      "Requirement already satisfied: urllib3<1.25,>=1.21.1 in /Users/bhavinivyas/anaconda3/lib/python3.7/site-packages (from requests>=2.20.0->sodapy) (1.24.1)\n",
      "Requirement already satisfied: chardet<3.1.0,>=3.0.2 in /Users/bhavinivyas/anaconda3/lib/python3.7/site-packages (from requests>=2.20.0->sodapy) (3.0.4)\n",
      "Requirement already satisfied: idna<2.9,>=2.5 in /Users/bhavinivyas/anaconda3/lib/python3.7/site-packages (from requests>=2.20.0->sodapy) (2.8)\n",
      "Requirement already satisfied: certifi>=2017.4.17 in /Users/bhavinivyas/anaconda3/lib/python3.7/site-packages (from requests>=2.20.0->sodapy) (2019.3.9)\n"
     ]
    }
   ],
   "source": [
    "!pip install sodapy"
   ]
  },
  {
   "cell_type": "code",
   "execution_count": 3,
   "metadata": {},
   "outputs": [],
   "source": [
    "import pandas as pd"
   ]
  },
  {
   "cell_type": "code",
   "execution_count": 4,
   "metadata": {},
   "outputs": [
    {
     "name": "stderr",
     "output_type": "stream",
     "text": [
      "WARNING:root:Requests made without an app_token will be subject to strict throttling limits.\n"
     ]
    },
    {
     "data": {
      "text/html": [
       "<div>\n",
       "<style scoped>\n",
       "    .dataframe tbody tr th:only-of-type {\n",
       "        vertical-align: middle;\n",
       "    }\n",
       "\n",
       "    .dataframe tbody tr th {\n",
       "        vertical-align: top;\n",
       "    }\n",
       "\n",
       "    .dataframe thead th {\n",
       "        text-align: right;\n",
       "    }\n",
       "</style>\n",
       "<table border=\"1\" class=\"dataframe\">\n",
       "  <thead>\n",
       "    <tr style=\"text-align: right;\">\n",
       "      <th></th>\n",
       "      <th>zip_code</th>\n",
       "      <th>crime_type</th>\n",
       "      <th>category_description</th>\n",
       "      <th>occ_date_time</th>\n",
       "      <th>latitude</th>\n",
       "      <th>longitude</th>\n",
       "    </tr>\n",
       "  </thead>\n",
       "  <tbody>\n",
       "    <tr>\n",
       "      <th>0</th>\n",
       "      <td>78741</td>\n",
       "      <td>FAMILY DISTURBANCE</td>\n",
       "      <td>NaN</td>\n",
       "      <td>2019-09-07T19:22:00.000</td>\n",
       "      <td>30.22478271</td>\n",
       "      <td>-97.69497855</td>\n",
       "    </tr>\n",
       "    <tr>\n",
       "      <th>1</th>\n",
       "      <td>78701</td>\n",
       "      <td>ASSAULT WITH INJURY</td>\n",
       "      <td>NaN</td>\n",
       "      <td>2019-09-07T19:00:00.000</td>\n",
       "      <td>30.26797616</td>\n",
       "      <td>-97.737619</td>\n",
       "    </tr>\n",
       "    <tr>\n",
       "      <th>2</th>\n",
       "      <td>78741</td>\n",
       "      <td>THEFT OF BICYCLE</td>\n",
       "      <td>Theft</td>\n",
       "      <td>2019-09-07T18:30:00.000</td>\n",
       "      <td>30.23581427</td>\n",
       "      <td>-97.72262391</td>\n",
       "    </tr>\n",
       "    <tr>\n",
       "      <th>3</th>\n",
       "      <td>78702</td>\n",
       "      <td>FRAUD - OTHER</td>\n",
       "      <td>NaN</td>\n",
       "      <td>2019-09-07T16:32:00.000</td>\n",
       "      <td>30.26309751</td>\n",
       "      <td>-97.7061995</td>\n",
       "    </tr>\n",
       "    <tr>\n",
       "      <th>4</th>\n",
       "      <td>78751</td>\n",
       "      <td>ASSAULT BY CONTACT</td>\n",
       "      <td>NaN</td>\n",
       "      <td>2019-09-07T15:00:00.000</td>\n",
       "      <td>30.30765065</td>\n",
       "      <td>-97.73535047</td>\n",
       "    </tr>\n",
       "  </tbody>\n",
       "</table>\n",
       "</div>"
      ],
      "text/plain": [
       "  zip_code           crime_type category_description            occ_date_time  \\\n",
       "0    78741   FAMILY DISTURBANCE                  NaN  2019-09-07T19:22:00.000   \n",
       "1    78701  ASSAULT WITH INJURY                  NaN  2019-09-07T19:00:00.000   \n",
       "2    78741     THEFT OF BICYCLE                Theft  2019-09-07T18:30:00.000   \n",
       "3    78702        FRAUD - OTHER                  NaN  2019-09-07T16:32:00.000   \n",
       "4    78751   ASSAULT BY CONTACT                  NaN  2019-09-07T15:00:00.000   \n",
       "\n",
       "      latitude     longitude  \n",
       "0  30.22478271  -97.69497855  \n",
       "1  30.26797616    -97.737619  \n",
       "2  30.23581427  -97.72262391  \n",
       "3  30.26309751   -97.7061995  \n",
       "4  30.30765065  -97.73535047  "
      ]
     },
     "execution_count": 4,
     "metadata": {},
     "output_type": "execute_result"
    }
   ],
   "source": [
    "from sodapy import Socrata\n",
    "client = Socrata(\"data.austintexas.gov\", None)\n",
    "results = client.get(\"fdj4-gpfu\", limit = 550000)\n",
    "\n",
    "# Convert to pandas DataFrame\n",
    "results_df = pd.DataFrame.from_records(results)\n",
    "crimedata_df = results_df[[\"zip_code\", \"crime_type\", \"category_description\", \"occ_date_time\", \"latitude\", \"longitude\"]]\n",
    "crimedata_df.head()"
   ]
  },
  {
   "cell_type": "code",
   "execution_count": 5,
   "metadata": {},
   "outputs": [
    {
     "data": {
      "text/plain": [
       "zip_code                545325\n",
       "crime_type              550000\n",
       "category_description    186852\n",
       "occ_date_time           550000\n",
       "latitude                538447\n",
       "longitude               538447\n",
       "dtype: int64"
      ]
     },
     "execution_count": 5,
     "metadata": {},
     "output_type": "execute_result"
    }
   ],
   "source": [
    "crimedata_df.count()"
   ]
  },
  {
   "cell_type": "code",
   "execution_count": 6,
   "metadata": {},
   "outputs": [
    {
     "data": {
      "text/plain": [
       "zip_code                object\n",
       "crime_type              object\n",
       "category_description    object\n",
       "occ_date_time           object\n",
       "latitude                object\n",
       "longitude               object\n",
       "dtype: object"
      ]
     },
     "execution_count": 6,
     "metadata": {},
     "output_type": "execute_result"
    }
   ],
   "source": [
    "crimedata_df.dtypes"
   ]
  },
  {
   "cell_type": "code",
   "execution_count": 7,
   "metadata": {},
   "outputs": [],
   "source": [
    "# Save crime data to csv file.\n",
    "crimedata_df.to_csv(\"CrimeDataset/crimedata.csv\", index=False)"
   ]
  },
  {
   "cell_type": "code",
   "execution_count": null,
   "metadata": {},
   "outputs": [],
   "source": []
  }
 ],
 "metadata": {
  "kernelspec": {
   "display_name": "Conda [PythonData]",
   "language": "python",
   "name": "pythondata"
  },
  "language_info": {
   "codemirror_mode": {
    "name": "ipython",
    "version": 3
   },
   "file_extension": ".py",
   "mimetype": "text/x-python",
   "name": "python",
   "nbconvert_exporter": "python",
   "pygments_lexer": "ipython3",
   "version": "3.7.3"
  }
 },
 "nbformat": 4,
 "nbformat_minor": 2
}
