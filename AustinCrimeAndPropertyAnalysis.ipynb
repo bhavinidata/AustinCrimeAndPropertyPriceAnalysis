{
 "cells": [
  {
   "cell_type": "markdown",
   "metadata": {},
   "source": [
    "# Austin Crime and Property Analysis"
   ]
  },
  {
   "cell_type": "markdown",
   "metadata": {},
   "source": [
    "### Over time, does a change in crime, imapct housing prices in Austin? \n",
    "\n",
    "## Null Hypothesis\n",
    "* There is no corelation between %change in crime data & %change in home prices. If crime increases within zipcode, housing price doesn't decrease in that specific zipcode.\n",
    "\n",
    "## Hypothesis\n",
    "* An increase in crime, over a period, will negatively impact home prices in an Austin zip code.  Conversely, a decrease in crime, over a period, will positively impact home prices in an Austin zip code."
   ]
  },
  {
   "cell_type": "markdown",
   "metadata": {},
   "source": [
    "### Datasources\n",
    "* US Cencus Data (Pupulation by zipcode)\n",
    "* MLS listing data (zipcode, listing date, listing price)\n",
    "* austintexas.gov (zipcode, crime type, occurance date)"
   ]
  },
  {
   "cell_type": "code",
   "execution_count": 1,
   "metadata": {},
   "outputs": [],
   "source": [
    "import warnings\n",
    "warnings.filterwarnings(\"ignore\")"
   ]
  },
  {
   "cell_type": "code",
   "execution_count": 2,
   "metadata": {},
   "outputs": [],
   "source": [
    "import pandas as pd\n",
    "import numpy as np\n",
    "from matplotlib import pyplot as plt\n",
    "%matplotlib inline\n",
    "from scipy.stats import linregress"
   ]
  },
  {
   "cell_type": "markdown",
   "metadata": {},
   "source": [
    "## Read Crime data"
   ]
  },
  {
   "cell_type": "code",
   "execution_count": 3,
   "metadata": {},
   "outputs": [
    {
     "data": {
      "text/html": [
       "<div>\n",
       "<style scoped>\n",
       "    .dataframe tbody tr th:only-of-type {\n",
       "        vertical-align: middle;\n",
       "    }\n",
       "\n",
       "    .dataframe tbody tr th {\n",
       "        vertical-align: top;\n",
       "    }\n",
       "\n",
       "    .dataframe thead th {\n",
       "        text-align: right;\n",
       "    }\n",
       "</style>\n",
       "<table border=\"1\" class=\"dataframe\">\n",
       "  <thead>\n",
       "    <tr style=\"text-align: right;\">\n",
       "      <th></th>\n",
       "      <th>CrimePerPop2015</th>\n",
       "      <th>CrimePerPop2016</th>\n",
       "      <th>CrimePerPop2017</th>\n",
       "      <th>CrimePerPop2018</th>\n",
       "    </tr>\n",
       "    <tr>\n",
       "      <th>ZipCode</th>\n",
       "      <th></th>\n",
       "      <th></th>\n",
       "      <th></th>\n",
       "      <th></th>\n",
       "    </tr>\n",
       "  </thead>\n",
       "  <tbody>\n",
       "    <tr>\n",
       "      <th>78701</th>\n",
       "      <td>NaN</td>\n",
       "      <td>NaN</td>\n",
       "      <td>NaN</td>\n",
       "      <td>-12.482595</td>\n",
       "    </tr>\n",
       "    <tr>\n",
       "      <th>78702</th>\n",
       "      <td>NaN</td>\n",
       "      <td>NaN</td>\n",
       "      <td>NaN</td>\n",
       "      <td>-5.553800</td>\n",
       "    </tr>\n",
       "    <tr>\n",
       "      <th>78703</th>\n",
       "      <td>NaN</td>\n",
       "      <td>NaN</td>\n",
       "      <td>NaN</td>\n",
       "      <td>-8.826972</td>\n",
       "    </tr>\n",
       "    <tr>\n",
       "      <th>78704</th>\n",
       "      <td>NaN</td>\n",
       "      <td>NaN</td>\n",
       "      <td>NaN</td>\n",
       "      <td>-7.016709</td>\n",
       "    </tr>\n",
       "    <tr>\n",
       "      <th>78705</th>\n",
       "      <td>NaN</td>\n",
       "      <td>NaN</td>\n",
       "      <td>NaN</td>\n",
       "      <td>-29.603636</td>\n",
       "    </tr>\n",
       "  </tbody>\n",
       "</table>\n",
       "</div>"
      ],
      "text/plain": [
       "         CrimePerPop2015  CrimePerPop2016  CrimePerPop2017  CrimePerPop2018\n",
       "ZipCode                                                                    \n",
       "78701                NaN              NaN              NaN       -12.482595\n",
       "78702                NaN              NaN              NaN        -5.553800\n",
       "78703                NaN              NaN              NaN        -8.826972\n",
       "78704                NaN              NaN              NaN        -7.016709\n",
       "78705                NaN              NaN              NaN       -29.603636"
      ]
     },
     "execution_count": 3,
     "metadata": {},
     "output_type": "execute_result"
    }
   ],
   "source": [
    "perc_chg_pop_crime_2015to2018 = pd.read_csv(\"Datasets/AustinCrimeDataset/perc_chg_pop_crime_2015to2018.csv\")\n",
    "perc_chg_pop_crime_2015to2018.set_index(\"ZipCode\", inplace=True)\n",
    "perc_chg_pop_crime_2015to2018.head()"
   ]
  },
  {
   "cell_type": "markdown",
   "metadata": {},
   "source": [
    "## Read Property price data"
   ]
  },
  {
   "cell_type": "code",
   "execution_count": 4,
   "metadata": {},
   "outputs": [
    {
     "data": {
      "text/html": [
       "<div>\n",
       "<style scoped>\n",
       "    .dataframe tbody tr th:only-of-type {\n",
       "        vertical-align: middle;\n",
       "    }\n",
       "\n",
       "    .dataframe tbody tr th {\n",
       "        vertical-align: top;\n",
       "    }\n",
       "\n",
       "    .dataframe thead th {\n",
       "        text-align: right;\n",
       "    }\n",
       "</style>\n",
       "<table border=\"1\" class=\"dataframe\">\n",
       "  <thead>\n",
       "    <tr style=\"text-align: right;\">\n",
       "      <th></th>\n",
       "      <th>2015</th>\n",
       "      <th>2018</th>\n",
       "    </tr>\n",
       "    <tr>\n",
       "      <th>ZipCode</th>\n",
       "      <th></th>\n",
       "      <th></th>\n",
       "    </tr>\n",
       "  </thead>\n",
       "  <tbody>\n",
       "    <tr>\n",
       "      <th>78681</th>\n",
       "      <td>NaN</td>\n",
       "      <td>16.919933</td>\n",
       "    </tr>\n",
       "    <tr>\n",
       "      <th>78702</th>\n",
       "      <td>NaN</td>\n",
       "      <td>17.475000</td>\n",
       "    </tr>\n",
       "    <tr>\n",
       "      <th>78703</th>\n",
       "      <td>NaN</td>\n",
       "      <td>11.121951</td>\n",
       "    </tr>\n",
       "    <tr>\n",
       "      <th>78704</th>\n",
       "      <td>NaN</td>\n",
       "      <td>16.747289</td>\n",
       "    </tr>\n",
       "    <tr>\n",
       "      <th>78705</th>\n",
       "      <td>NaN</td>\n",
       "      <td>8.320611</td>\n",
       "    </tr>\n",
       "  </tbody>\n",
       "</table>\n",
       "</div>"
      ],
      "text/plain": [
       "         2015       2018\n",
       "ZipCode                 \n",
       "78681     NaN  16.919933\n",
       "78702     NaN  17.475000\n",
       "78703     NaN  11.121951\n",
       "78704     NaN  16.747289\n",
       "78705     NaN   8.320611"
      ]
     },
     "execution_count": 4,
     "metadata": {},
     "output_type": "execute_result"
    }
   ],
   "source": [
    "perc_change_listing_2015_2018 = pd.read_csv(\"Datasets/AustinHomePrice/PerChgPriceListing.csv\")\n",
    "perc_change_listing_2015_2018.set_index(\"ZipCode\", inplace=True)\n",
    "perc_change_listing_2015_2018.head()"
   ]
  },
  {
   "cell_type": "code",
   "execution_count": 5,
   "metadata": {},
   "outputs": [
    {
     "data": {
      "text/html": [
       "<div>\n",
       "<style scoped>\n",
       "    .dataframe tbody tr th:only-of-type {\n",
       "        vertical-align: middle;\n",
       "    }\n",
       "\n",
       "    .dataframe tbody tr th {\n",
       "        vertical-align: top;\n",
       "    }\n",
       "\n",
       "    .dataframe thead th {\n",
       "        text-align: right;\n",
       "    }\n",
       "</style>\n",
       "<table border=\"1\" class=\"dataframe\">\n",
       "  <thead>\n",
       "    <tr style=\"text-align: right;\">\n",
       "      <th></th>\n",
       "      <th>CrimePerPop2018</th>\n",
       "      <th>2018</th>\n",
       "    </tr>\n",
       "    <tr>\n",
       "      <th>ZipCode</th>\n",
       "      <th></th>\n",
       "      <th></th>\n",
       "    </tr>\n",
       "  </thead>\n",
       "  <tbody>\n",
       "    <tr>\n",
       "      <th>78702</th>\n",
       "      <td>-5.553800</td>\n",
       "      <td>17.475000</td>\n",
       "    </tr>\n",
       "    <tr>\n",
       "      <th>78703</th>\n",
       "      <td>-8.826972</td>\n",
       "      <td>11.121951</td>\n",
       "    </tr>\n",
       "    <tr>\n",
       "      <th>78704</th>\n",
       "      <td>-7.016709</td>\n",
       "      <td>16.747289</td>\n",
       "    </tr>\n",
       "    <tr>\n",
       "      <th>78705</th>\n",
       "      <td>-29.603636</td>\n",
       "      <td>8.320611</td>\n",
       "    </tr>\n",
       "    <tr>\n",
       "      <th>78717</th>\n",
       "      <td>29.362962</td>\n",
       "      <td>13.913751</td>\n",
       "    </tr>\n",
       "  </tbody>\n",
       "</table>\n",
       "</div>"
      ],
      "text/plain": [
       "         CrimePerPop2018       2018\n",
       "ZipCode                            \n",
       "78702          -5.553800  17.475000\n",
       "78703          -8.826972  11.121951\n",
       "78704          -7.016709  16.747289\n",
       "78705         -29.603636   8.320611\n",
       "78717          29.362962  13.913751"
      ]
     },
     "execution_count": 5,
     "metadata": {},
     "output_type": "execute_result"
    }
   ],
   "source": [
    "# Merge two dataframes percentage change of crime per 1000 population(perc_chg_pop_crime_2015to2018) and percentage change in property price(perc_change_listing_2015_2018)\n",
    "per_chg_crime_price_merge = pd.merge(perc_chg_pop_crime_2015to2018, perc_change_listing_2015_2018, on='ZipCode')\n",
    "per_chg_crime_price_merge.columns = ['CrimePerPop2015', 'CrimePerPop2016', 'CrimePerPop2017', \\\n",
    "                      'CrimePerPop2018', '2015', '2018']\n",
    "per_chg_crime_price_merge = per_chg_crime_price_merge[['CrimePerPop2018', '2018']]\n",
    "per_chg_crime_price_merge.head()"
   ]
  },
  {
   "cell_type": "code",
   "execution_count": 6,
   "metadata": {},
   "outputs": [
    {
     "name": "stdout",
     "output_type": "stream",
     "text": [
      "p-value is: 0.435616590620837\n",
      "r-value is: -0.13822978751317572\n",
      "r-square is: 0.01910747415593771\n"
     ]
    },
    {
     "data": {
      "image/png": "[encoded data removed]",
      "text/plain": [
       "<Figure size 576x432 with 1 Axes>"
      ]
     },
     "metadata": {
      "needs_background": "light"
     },
     "output_type": "display_data"
    }
   ],
   "source": [
    "# Scatter plot to show the relationship between %change in crime with %change in property price.\n",
    "x = per_chg_crime_price_merge[\"CrimePerPop2018\"]\n",
    "y = per_chg_crime_price_merge[\"2018\"]\n",
    "stats = linregress(x,y)\n",
    "\n",
    "m = stats.slope\n",
    "b = stats.intercept\n",
    "r_value = stats.rvalue\n",
    "r_square = r_value**2\n",
    "print(f\"p-value is: {stats.pvalue}\")\n",
    "print(f\"r-value is: {stats.rvalue}\")\n",
    "print(f\"r-square is: {r_square}\")\n",
    "plt.figure(figsize = (8,6))\n",
    "plt.scatter(x,y)\n",
    "plt.plot(x, m*x+b, color = \"red\")\n",
    "\n",
    "plt.xlabel(\"%Change in Crime\", fontsize=12)\n",
    "plt.ylabel(\"%change in Property Price\", fontsize=12)\n",
    "plt.title(\"%Change in Crime Vs %Change in Property Price\", fontsize=15)\n",
    "plt.grid()\n",
    "plt.savefig(\"images/CrimeVsPropertyScatterPlt.png\")\n",
    "plt.show()"
   ]
  },
  {
   "cell_type": "markdown",
   "metadata": {},
   "source": [
    "# Observations\n"
   ]
  },
  {
   "cell_type": "markdown",
   "metadata": {},
   "source": [
    "* Based on scatterplot and derived r-square value, it does not appear that crime data has a significant influence on home prices in Austin. There is no corelation between the two.\n",
    "* Higher p-value indicates that Null Hypothesis (no corelation between the two variables i.e. crime data & home prices) is true.\n",
    "* Other factors such as neighborhood location, schools, walkability, neighborhood character, property taxes and long-term value may be more important.\n"
   ]
  }
 ],
 "metadata": {
  "kernelspec": {
   "display_name": "Conda [PythonData]",
   "language": "python",
   "name": "pythondata"
  },
  "language_info": {
   "codemirror_mode": {
    "name": "ipython",
    "version": 3
   },
   "file_extension": ".py",
   "mimetype": "text/x-python",
   "name": "python",
   "nbconvert_exporter": "python",
   "pygments_lexer": "ipython3",
   "version": "3.7.3"
  }
 },
 "nbformat": 4,
 "nbformat_minor": 2
}
